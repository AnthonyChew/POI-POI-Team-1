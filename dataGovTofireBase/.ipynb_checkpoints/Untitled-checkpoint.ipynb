{
 "cells": [
  {
   "cell_type": "code",
   "execution_count": 16,
   "id": "6c404f41",
   "metadata": {},
   "outputs": [],
   "source": [
    "import firebase_admin\n",
    "from firebase_admin import firestore\n",
    "import os\n",
    "os.environ[\"GOOGLE_APPLICATION_CREDENTIALS\"]=\"C:/Users/antho/Downloads/poi-poi-f8448-firebase-adminsdk-skqz6-1532cc1a56.json\"\n",
    "import json\n",
    "from bs4 import BeautifulSoup"
   ]
  },
  {
   "cell_type": "code",
   "execution_count": 33,
   "id": "5b3dde17",
   "metadata": {},
   "outputs": [],
   "source": [
    "def remove_tags(html):\n",
    "    # parse html content\n",
    "    soup = BeautifulSoup(html, \"html.parser\")\n",
    "    \n",
    "    for data in soup(['style', 'script']):\n",
    "        # Remove tags\n",
    "        data.decompose()\n",
    "        \n",
    "    # return data by retrieving the tag content\n",
    "    return ' '.join(soup.stripped_strings)"
   ]
  },
  {
   "cell_type": "code",
   "execution_count": 3,
   "id": "571a5ea1",
   "metadata": {},
   "outputs": [],
   "source": [
    "app = firebase_admin.initialize_app()"
   ]
  },
  {
   "cell_type": "code",
   "execution_count": 7,
   "id": "df19ca82",
   "metadata": {},
   "outputs": [],
   "source": [
    "all_content = json.load(open('healthier-caterers-geojson.json', encoding='utf-8'))"
   ]
  },
  {
   "cell_type": "code",
   "execution_count": 5,
   "id": "bd09a253",
   "metadata": {},
   "outputs": [
    {
     "name": "stdout",
     "output_type": "stream",
     "text": [
      "sQiMOLUs65Y3hxIRspCyC6x197g1 => {'name': 'Ant', 'birthday': '2022-08-15', 'profile_pic_path': '/data/user/0/com.poipoi.poipoi/app_flutter/scaled_image_picker6959413137173477009.jpg', 'is_male': True}\n"
     ]
    }
   ],
   "source": [
    "db = firestore.client()\n",
    "users_ref = db.collection('user_data')\n",
    "docs = users_ref.stream()\n",
    "\n",
    "for doc in docs:\n",
    "    print(f'{doc.id} => {doc.to_dict()}')"
   ]
  },
  {
   "cell_type": "code",
   "execution_count": 12,
   "id": "eec4ab01",
   "metadata": {},
   "outputs": [
    {
     "name": "stdout",
     "output_type": "stream",
     "text": [
      "[103.906070343003, 1.38990044708765, 0.0]\n"
     ]
    }
   ],
   "source": [
    "print(all_content['HealthyVendor'][0]['geometry']['coordinates'])"
   ]
  },
  {
   "cell_type": "code",
   "execution_count": 38,
   "id": "489684ef",
   "metadata": {},
   "outputs": [
    {
     "name": "stdout",
     "output_type": "stream",
     "text": [
      "<tr><th align=\"center\" colspan=\"2\"><em>Attributes</em></th></tr>\n",
      "<tr bgcolor=\"#E3E3F3\"> <th>LANDYADDRESSPOINT</th> <td></td> </tr>\n",
      "<tr bgcolor=\"\"> <th>LANDXADDRESSPOINT</th> <td></td> </tr>\n",
      "<tr bgcolor=\"#E3E3F3\"> <th>PHOTOURL</th> <td></td> </tr>\n",
      "<tr bgcolor=\"\"> <th>NAME</th> <td>FattyDaddyFattyMummy Pte. Ltd. - Rivervale Drive</td> </tr>\n",
      "<tr bgcolor=\"#E3E3F3\"> <th>HYPERLINK</th> <td></td> </tr>\n",
      "<tr bgcolor=\"\"> <th>DESCRIPTION</th> <td>Healthier caterer</td> </tr>\n",
      "<tr bgcolor=\"#E3E3F3\"> <th>ADDRESSTYPE</th> <td>Caterer</td> </tr>\n",
      "<tr bgcolor=\"\"> <th>ADDRESSUNITNUMBER</th> <td>12</td> </tr>\n",
      "<tr bgcolor=\"#E3E3F3\"> <th>ADDRESSBUILDINGNAME</th> <td></td> </tr>\n",
      "<tr bgcolor=\"\"> <th>ADDRESSSTREETNAME</th> <td>Rivervale Drive</td> </tr>\n",
      "<tr bgcolor=\"#E3E3F3\"> <th>ADDRESSPOSTALCODE</th> <td>540145</td> </tr>\n",
      "<tr bgcolor=\"\"> <th>ADDRESSFLOORNUMBER</th> <td>15</td> </tr>\n",
      "<tr bgcolor=\"#E3E3F3\"> <th>INC_CRC</th> <td>11A359CD581E762F</td> </tr>\n",
      "<tr bgcolor=\"\"> <th>FMEL_UPD_D</th> <td>20200415185719</td> </tr>\n",
      "<tr bgcolor=\"#E3E3F3\"> <th>ADDRESSBLOCKHOUSENUMBER</th> <td>145</td> </tr>\n"
     ]
    }
   ],
   "source": [
    "soup = BeautifulSoup(all_content['HealthyVendor'][0]['properties']['Description'], 'html.parser')\n",
    "tr = soup.findAll('tr')\n",
    "\n",
    "dic = {}\n",
    "for t in tr:\n",
    "    td = t.find('td')\n",
    "    if(td != None)\n",
    "    \n",
    "\n"
   ]
  },
  {
   "cell_type": "code",
   "execution_count": null,
   "id": "8b43baaa",
   "metadata": {},
   "outputs": [],
   "source": []
  }
 ],
 "metadata": {
  "kernelspec": {
   "display_name": "Python 3 (ipykernel)",
   "language": "python",
   "name": "python3"
  },
  "language_info": {
   "codemirror_mode": {
    "name": "ipython",
    "version": 3
   },
   "file_extension": ".py",
   "mimetype": "text/x-python",
   "name": "python",
   "nbconvert_exporter": "python",
   "pygments_lexer": "ipython3",
   "version": "3.9.12"
  }
 },
 "nbformat": 4,
 "nbformat_minor": 5
}
